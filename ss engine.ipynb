{
 "cells": [
  {
   "cell_type": "code",
   "execution_count": null,
   "id": "9af02052",
   "metadata": {},
   "outputs": [
    {
     "name": "stderr",
     "output_type": "stream",
     "text": [
      "c:\\Users\\devas\\OneDrive\\Desktop\\My\\Projects\\applied knowledge\\project_venv\\Lib\\site-packages\\tqdm\\auto.py:21: TqdmWarning: IProgress not found. Please update jupyter and ipywidgets. See https://ipywidgets.readthedocs.io/en/stable/user_install.html\n",
      "  from .autonotebook import tqdm as notebook_tqdm\n"
     ]
    }
   ],
   "source": [
    "import os\n",
    "import re\n",
    "import kagglehub\n",
    "\n",
    "import pandas as pd\n",
    "from sentence_transformers import SentenceTransformer, util"
   ]
  },
  {
   "cell_type": "markdown",
   "id": "1fe2f2f7",
   "metadata": {},
   "source": [
    "data preprocessing"
   ]
  },
  {
   "cell_type": "code",
   "execution_count": 2,
   "id": "a34714f8",
   "metadata": {},
   "outputs": [],
   "source": [
    "def removal(text):\n",
    "    return re.sub(\n",
    "        r\"\\s+\", \" \",\n",
    "        re.sub(\n",
    "            r\"[^a-z\\s]\", \" \",\n",
    "            re.sub(\n",
    "                r\"http\\S+|www\\S+|<.*?>\", \" \",\n",
    "                text.lower()\n",
    "    ))).strip()"
   ]
  },
  {
   "cell_type": "code",
   "execution_count": null,
   "id": "88d97d67",
   "metadata": {},
   "outputs": [
    {
     "name": "stdout",
     "output_type": "stream",
     "text": [
      "Path to dataset files: C:\\Users\\devas\\.cache\\kagglehub\\datasets\\mantunes\\semantic-corpus-from-web-search-snippets\\versions\\1\n"
     ]
    }
   ],
   "source": [
    "path = kagglehub.dataset_download(\"mantunes/semantic-corpus-from-web-search-snippets\")\n",
    "print(\"Path to dataset files:\", path)\n",
    "\n",
    "data_file = os.path.join(path, \"dataset\", \"dataset\", \"xbox.csv\")"
   ]
  },
  {
   "cell_type": "code",
   "execution_count": 4,
   "id": "8f24002b",
   "metadata": {},
   "outputs": [],
   "source": [
    "lines = []\n",
    "with open(data_file, \"r\") as f:\n",
    "    lines = f.readlines()\n",
    "\n",
    "allowed = set(\"abcdefghijklmnopqrstuvwxyzABCDEFGHIJKLMNOPQRSTUVWXYZ0123456789\")\n",
    "filtered = [line.strip() for line in lines if any(ch in allowed for ch in line)]\n",
    "\n",
    "df = pd.DataFrame(filtered, columns=['text'])\n",
    "text = df['text'].apply(removal)"
   ]
  },
  {
   "cell_type": "markdown",
   "id": "6689d895",
   "metadata": {},
   "source": [
    "model training"
   ]
  },
  {
   "cell_type": "code",
   "execution_count": null,
   "id": "be9d4ad2",
   "metadata": {},
   "outputs": [],
   "source": [
    "model = SentenceTransformer('all-MiniLM-L6-v2')"
   ]
  },
  {
   "cell_type": "code",
   "execution_count": 11,
   "id": "5c45b00f",
   "metadata": {},
   "outputs": [],
   "source": [
    "def get_hits(text, query, model=model):\n",
    "    text_embs = model.encode(\n",
    "        text,\n",
    "        convert_to_tensor=True\n",
    "    )\n",
    "    vec = model.encode(\n",
    "        query,\n",
    "        convert_to_tensor=True,\n",
    "    )\n",
    "    return util.semantic_search(\n",
    "        vec,\n",
    "        text_embs,\n",
    "        top_k=3,\n",
    "    )"
   ]
  },
  {
   "cell_type": "code",
   "execution_count": 16,
   "id": "f543958f",
   "metadata": {},
   "outputs": [
    {
     "name": "stdout",
     "output_type": "stream",
     "text": [
      "how to install --> score: 40.8212/100\n",
      "do you already have an account --> score: 34.0768/100\n",
      "no create an account now --> score: 33.8187/100\n"
     ]
    }
   ],
   "source": [
    "hits = get_hits(text, \"how to join\")\n",
    "for hit in hits[0]:\n",
    "    print(f\"{text[hit['corpus_id']]} --> score: {hit['score'] * 100:.4f}/100\")"
   ]
  },
  {
   "cell_type": "markdown",
   "id": "763176c3",
   "metadata": {},
   "source": [
    "evaluation"
   ]
  },
  {
   "cell_type": "code",
   "execution_count": null,
   "id": "58426b95",
   "metadata": {},
   "outputs": [],
   "source": []
  },
  {
   "cell_type": "markdown",
   "id": "a02e809f",
   "metadata": {},
   "source": [
    "deployment"
   ]
  },
  {
   "cell_type": "code",
   "execution_count": 18,
   "id": "2694209d",
   "metadata": {},
   "outputs": [],
   "source": [
    "model.save('./hit_model')"
   ]
  }
 ],
 "metadata": {
  "kernelspec": {
   "display_name": "Python 3",
   "language": "python",
   "name": "python3"
  },
  "language_info": {
   "codemirror_mode": {
    "name": "ipython",
    "version": 3
   },
   "file_extension": ".py",
   "mimetype": "text/x-python",
   "name": "python",
   "nbconvert_exporter": "python",
   "pygments_lexer": "ipython3",
   "version": "3.11.9"
  }
 },
 "nbformat": 4,
 "nbformat_minor": 5
}
